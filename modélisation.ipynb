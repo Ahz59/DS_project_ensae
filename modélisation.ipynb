{
 "cells": [
  {
   "cell_type": "code",
   "execution_count": 2,
   "id": "8ef0bb5f-1e8f-43f9-bdf5-1699195a0ffb",
   "metadata": {},
   "outputs": [],
   "source": [
    "import pandas as pd\n",
    "import numpy as np\n",
    "import statsmodels.api as sm\n",
    "from sklearn.linear_model import LogisticRegression"
   ]
  },
  {
   "cell_type": "code",
   "execution_count": 3,
   "id": "cd6c53d2-0b7f-4a47-a081-4adaa9039400",
   "metadata": {},
   "outputs": [],
   "source": [
    "df = pd.read_csv('data/speeddating modified.csv')"
   ]
  },
  {
   "cell_type": "code",
   "execution_count": null,
   "id": "ed2c8fd7-1aaa-452f-9471-d520a2e4e40a",
   "metadata": {},
   "outputs": [],
   "source": [
    "caractéristiques_fixes = ['race', 'age', 'field', 'sports', 'tvsports', 'exercise', 'dining', 'museums',\n",
    "                          'art', 'hiking', 'gaming', 'clubbing', 'reading', 'tv', 'theater', 'movies',\n",
    "                          'concerts', 'music', 'shopping', 'yoga']"
   ]
  },
  {
   "cell_type": "code",
   "execution_count": null,
   "id": "73593dcd-a391-4034-bf2e-b4b030ad5a34",
   "metadata": {},
   "outputs": [],
   "source": [
    "notes_reçues = ['attractive_o', 'sincere_o', 'intelligence_o', 'funny_o', 'ambitious_o', 'shared_interests_o']"
   ]
  },
  {
   "cell_type": "code",
   "execution_count": null,
   "id": "0cdd7ec8-47bf-4c1e-b0e7-990f54b2b3c0",
   "metadata": {},
   "outputs": [],
   "source": []
  }
 ],
 "metadata": {
  "kernelspec": {
   "display_name": "Python 3 (ipykernel)",
   "language": "python",
   "name": "python3"
  },
  "language_info": {
   "codemirror_mode": {
    "name": "ipython",
    "version": 3
   },
   "file_extension": ".py",
   "mimetype": "text/x-python",
   "name": "python",
   "nbconvert_exporter": "python",
   "pygments_lexer": "ipython3",
   "version": "3.10.4"
  }
 },
 "nbformat": 4,
 "nbformat_minor": 5
}
