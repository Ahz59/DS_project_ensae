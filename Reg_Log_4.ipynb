{
 "cells": [
  {
   "cell_type": "code",
   "execution_count": 2,
   "id": "0be29e62-7d45-438c-9b8d-2a8121e203ac",
   "metadata": {},
   "outputs": [],
   "source": [
    "import pandas as pd\n",
    "import numpy as np\n",
    "import seaborn as sns\n",
    "from sklearn.preprocessing import StandardScaler\n",
    "from sklearn.model_selection import train_test_split\n",
    "from sklearn.linear_model import LogisticRegression, LinearRegression\n",
    "import matplotlib.pyplot as plt"
   ]
  },
  {
   "cell_type": "code",
   "execution_count": 3,
   "id": "02e6d9e3-703b-4a2c-9faf-7e122bff5238",
   "metadata": {},
   "outputs": [],
   "source": [
    "df = pd.read_csv('data/speeddating modified.csv')"
   ]
  },
  {
   "cell_type": "code",
   "execution_count": 4,
   "id": "fcef8da4-652f-4d7e-92f4-3141b18590dc",
   "metadata": {},
   "outputs": [],
   "source": [
    "df_perso = pd.read_csv('data/speeddating personal.csv')"
   ]
  },
  {
   "cell_type": "code",
   "execution_count": 5,
   "id": "e4ef25c3-fc0d-4ad6-9e0a-37307e9d4ae9",
   "metadata": {},
   "outputs": [],
   "source": [
    "df2 = df.copy()"
   ]
  },
  {
   "cell_type": "code",
   "execution_count": 6,
   "id": "c0a5a035-4fd4-4adb-9f70-33b510df199d",
   "metadata": {
    "tags": []
   },
   "outputs": [],
   "source": [
    "caractéristiques_fixes = ['race', 'age', 'sports', 'tvsports', 'exercise', 'dining', 'museums',\n",
    "                          'art', 'hiking', 'gaming', 'clubbing', 'reading', 'tv', 'theater', 'movies',\n",
    "                          'concerts', 'music', 'shopping', 'yoga']"
   ]
  },
  {
   "cell_type": "code",
   "execution_count": 7,
   "id": "be769291-ec1d-4f74-9383-fdce42c00e16",
   "metadata": {},
   "outputs": [],
   "source": [
    "variables_quantitatives = ['age', 'sports', 'tvsports', 'exercise', 'dining', 'museums',\n",
    "                          'art', 'hiking', 'gaming', 'clubbing', 'reading', 'tv', 'theater', 'movies',\n",
    "                          'concerts', 'music', 'shopping', 'yoga']"
   ]
  },
  {
   "cell_type": "code",
   "execution_count": 8,
   "id": "a74a70e4-bcc8-4049-88e8-7f00aaee2d20",
   "metadata": {},
   "outputs": [],
   "source": [
    "variables_qualitatives = ['race']"
   ]
  },
  {
   "cell_type": "markdown",
   "id": "55db0bed-8ecb-4be9-89d7-ae51395f2c21",
   "metadata": {},
   "source": [
    "## (OPTIONNEL) Régression de decision_o sur les notes reçues = ['attractive_o', 'sincere_o', 'intelligence_o', 'funny_o', 'ambitious_o', 'shared_interests_o']"
   ]
  },
  {
   "cell_type": "markdown",
   "id": "2ec99186-2ba2-4b3f-b531-70d294a584be",
   "metadata": {},
   "source": [
    "### Dans cette partie, on va voir si un trait physique/de la personnalité a une grande influence dans la décision du partenaire. Les notes reçues correspondent aux notes que le partenaire donne à l'individu."
   ]
  },
  {
   "cell_type": "code",
   "execution_count": 9,
   "id": "c8f5ce1e-5457-467f-a311-7ae439ec1564",
   "metadata": {},
   "outputs": [],
   "source": [
    "notes_reçues = ['attractive_o', 'sincere_o', 'intelligence_o', 'funny_o', 'ambition_o', 'shared_interests_o']"
   ]
  },
  {
   "cell_type": "code",
   "execution_count": 10,
   "id": "277ede11-4ebe-4fed-aa5c-6c39e66f2773",
   "metadata": {},
   "outputs": [
    {
     "data": {
      "text/plain": [
       "1310"
      ]
     },
     "execution_count": 10,
     "metadata": {},
     "output_type": "execute_result"
    }
   ],
   "source": [
    "df2[notes_reçues + ['decision_o']].isna().any(axis=1).sum()"
   ]
  },
  {
   "cell_type": "markdown",
   "id": "0e9b1f64-0cde-4f51-ae59-5a056c7461d3",
   "metadata": {},
   "source": [
    "### On supprime d'abord les valeurs manquantes "
   ]
  },
  {
   "cell_type": "code",
   "execution_count": 11,
   "id": "29e351a0-ffd4-40eb-8eb1-dd8fc1dcd0d1",
   "metadata": {},
   "outputs": [],
   "source": [
    "df3 = df2[notes_reçues + ['decision_o']].dropna()"
   ]
  },
  {
   "cell_type": "code",
   "execution_count": 12,
   "id": "3cdc24d6-ba78-42a5-8918-816cc7c54eda",
   "metadata": {},
   "outputs": [
    {
     "data": {
      "text/html": [
       "<div>\n",
       "<style scoped>\n",
       "    .dataframe tbody tr th:only-of-type {\n",
       "        vertical-align: middle;\n",
       "    }\n",
       "\n",
       "    .dataframe tbody tr th {\n",
       "        vertical-align: top;\n",
       "    }\n",
       "\n",
       "    .dataframe thead th {\n",
       "        text-align: right;\n",
       "    }\n",
       "</style>\n",
       "<table border=\"1\" class=\"dataframe\">\n",
       "  <thead>\n",
       "    <tr style=\"text-align: right;\">\n",
       "      <th></th>\n",
       "      <th>attractive_o</th>\n",
       "      <th>sincere_o</th>\n",
       "      <th>intelligence_o</th>\n",
       "      <th>funny_o</th>\n",
       "      <th>ambition_o</th>\n",
       "      <th>shared_interests_o</th>\n",
       "      <th>decision_o</th>\n",
       "    </tr>\n",
       "  </thead>\n",
       "  <tbody>\n",
       "    <tr>\n",
       "      <th>count</th>\n",
       "      <td>6899.000000</td>\n",
       "      <td>6899.000000</td>\n",
       "      <td>6899.000000</td>\n",
       "      <td>6899.000000</td>\n",
       "      <td>6899.000000</td>\n",
       "      <td>6899.000000</td>\n",
       "      <td>6899.000000</td>\n",
       "    </tr>\n",
       "    <tr>\n",
       "      <th>mean</th>\n",
       "      <td>6.181389</td>\n",
       "      <td>7.160168</td>\n",
       "      <td>7.362081</td>\n",
       "      <td>6.393390</td>\n",
       "      <td>6.756849</td>\n",
       "      <td>5.460719</td>\n",
       "      <td>0.429483</td>\n",
       "    </tr>\n",
       "    <tr>\n",
       "      <th>std</th>\n",
       "      <td>1.953262</td>\n",
       "      <td>1.748545</td>\n",
       "      <td>1.561906</td>\n",
       "      <td>1.961478</td>\n",
       "      <td>1.797939</td>\n",
       "      <td>2.150130</td>\n",
       "      <td>0.495038</td>\n",
       "    </tr>\n",
       "    <tr>\n",
       "      <th>min</th>\n",
       "      <td>0.000000</td>\n",
       "      <td>0.000000</td>\n",
       "      <td>0.000000</td>\n",
       "      <td>0.000000</td>\n",
       "      <td>0.000000</td>\n",
       "      <td>0.000000</td>\n",
       "      <td>0.000000</td>\n",
       "    </tr>\n",
       "    <tr>\n",
       "      <th>25%</th>\n",
       "      <td>5.000000</td>\n",
       "      <td>6.000000</td>\n",
       "      <td>6.000000</td>\n",
       "      <td>5.000000</td>\n",
       "      <td>6.000000</td>\n",
       "      <td>4.000000</td>\n",
       "      <td>0.000000</td>\n",
       "    </tr>\n",
       "    <tr>\n",
       "      <th>50%</th>\n",
       "      <td>6.000000</td>\n",
       "      <td>7.000000</td>\n",
       "      <td>7.000000</td>\n",
       "      <td>7.000000</td>\n",
       "      <td>7.000000</td>\n",
       "      <td>6.000000</td>\n",
       "      <td>0.000000</td>\n",
       "    </tr>\n",
       "    <tr>\n",
       "      <th>75%</th>\n",
       "      <td>8.000000</td>\n",
       "      <td>8.000000</td>\n",
       "      <td>8.000000</td>\n",
       "      <td>8.000000</td>\n",
       "      <td>8.000000</td>\n",
       "      <td>7.000000</td>\n",
       "      <td>1.000000</td>\n",
       "    </tr>\n",
       "    <tr>\n",
       "      <th>max</th>\n",
       "      <td>10.000000</td>\n",
       "      <td>10.000000</td>\n",
       "      <td>10.000000</td>\n",
       "      <td>11.000000</td>\n",
       "      <td>10.000000</td>\n",
       "      <td>10.000000</td>\n",
       "      <td>1.000000</td>\n",
       "    </tr>\n",
       "  </tbody>\n",
       "</table>\n",
       "</div>"
      ],
      "text/plain": [
       "       attractive_o    sincere_o  intelligence_o      funny_o   ambition_o  \\\n",
       "count   6899.000000  6899.000000     6899.000000  6899.000000  6899.000000   \n",
       "mean       6.181389     7.160168        7.362081     6.393390     6.756849   \n",
       "std        1.953262     1.748545        1.561906     1.961478     1.797939   \n",
       "min        0.000000     0.000000        0.000000     0.000000     0.000000   \n",
       "25%        5.000000     6.000000        6.000000     5.000000     6.000000   \n",
       "50%        6.000000     7.000000        7.000000     7.000000     7.000000   \n",
       "75%        8.000000     8.000000        8.000000     8.000000     8.000000   \n",
       "max       10.000000    10.000000       10.000000    11.000000    10.000000   \n",
       "\n",
       "       shared_interests_o   decision_o  \n",
       "count         6899.000000  6899.000000  \n",
       "mean             5.460719     0.429483  \n",
       "std              2.150130     0.495038  \n",
       "min              0.000000     0.000000  \n",
       "25%              4.000000     0.000000  \n",
       "50%              6.000000     0.000000  \n",
       "75%              7.000000     1.000000  \n",
       "max             10.000000     1.000000  "
      ]
     },
     "execution_count": 12,
     "metadata": {},
     "output_type": "execute_result"
    }
   ],
   "source": [
    "df3.describe()"
   ]
  },
  {
   "cell_type": "code",
   "execution_count": 13,
   "id": "558293e0-7dbc-45f7-86b3-4f72a73c35e5",
   "metadata": {},
   "outputs": [
    {
     "data": {
      "text/html": [
       "<style>#sk-container-id-1 {color: black;background-color: white;}#sk-container-id-1 pre{padding: 0;}#sk-container-id-1 div.sk-toggleable {background-color: white;}#sk-container-id-1 label.sk-toggleable__label {cursor: pointer;display: block;width: 100%;margin-bottom: 0;padding: 0.3em;box-sizing: border-box;text-align: center;}#sk-container-id-1 label.sk-toggleable__label-arrow:before {content: \"▸\";float: left;margin-right: 0.25em;color: #696969;}#sk-container-id-1 label.sk-toggleable__label-arrow:hover:before {color: black;}#sk-container-id-1 div.sk-estimator:hover label.sk-toggleable__label-arrow:before {color: black;}#sk-container-id-1 div.sk-toggleable__content {max-height: 0;max-width: 0;overflow: hidden;text-align: left;background-color: #f0f8ff;}#sk-container-id-1 div.sk-toggleable__content pre {margin: 0.2em;color: black;border-radius: 0.25em;background-color: #f0f8ff;}#sk-container-id-1 input.sk-toggleable__control:checked~div.sk-toggleable__content {max-height: 200px;max-width: 100%;overflow: auto;}#sk-container-id-1 input.sk-toggleable__control:checked~label.sk-toggleable__label-arrow:before {content: \"▾\";}#sk-container-id-1 div.sk-estimator input.sk-toggleable__control:checked~label.sk-toggleable__label {background-color: #d4ebff;}#sk-container-id-1 div.sk-label input.sk-toggleable__control:checked~label.sk-toggleable__label {background-color: #d4ebff;}#sk-container-id-1 input.sk-hidden--visually {border: 0;clip: rect(1px 1px 1px 1px);clip: rect(1px, 1px, 1px, 1px);height: 1px;margin: -1px;overflow: hidden;padding: 0;position: absolute;width: 1px;}#sk-container-id-1 div.sk-estimator {font-family: monospace;background-color: #f0f8ff;border: 1px dotted black;border-radius: 0.25em;box-sizing: border-box;margin-bottom: 0.5em;}#sk-container-id-1 div.sk-estimator:hover {background-color: #d4ebff;}#sk-container-id-1 div.sk-parallel-item::after {content: \"\";width: 100%;border-bottom: 1px solid gray;flex-grow: 1;}#sk-container-id-1 div.sk-label:hover label.sk-toggleable__label {background-color: #d4ebff;}#sk-container-id-1 div.sk-serial::before {content: \"\";position: absolute;border-left: 1px solid gray;box-sizing: border-box;top: 0;bottom: 0;left: 50%;z-index: 0;}#sk-container-id-1 div.sk-serial {display: flex;flex-direction: column;align-items: center;background-color: white;padding-right: 0.2em;padding-left: 0.2em;position: relative;}#sk-container-id-1 div.sk-item {position: relative;z-index: 1;}#sk-container-id-1 div.sk-parallel {display: flex;align-items: stretch;justify-content: center;background-color: white;position: relative;}#sk-container-id-1 div.sk-item::before, #sk-container-id-1 div.sk-parallel-item::before {content: \"\";position: absolute;border-left: 1px solid gray;box-sizing: border-box;top: 0;bottom: 0;left: 50%;z-index: -1;}#sk-container-id-1 div.sk-parallel-item {display: flex;flex-direction: column;z-index: 1;position: relative;background-color: white;}#sk-container-id-1 div.sk-parallel-item:first-child::after {align-self: flex-end;width: 50%;}#sk-container-id-1 div.sk-parallel-item:last-child::after {align-self: flex-start;width: 50%;}#sk-container-id-1 div.sk-parallel-item:only-child::after {width: 0;}#sk-container-id-1 div.sk-dashed-wrapped {border: 1px dashed gray;margin: 0 0.4em 0.5em 0.4em;box-sizing: border-box;padding-bottom: 0.4em;background-color: white;}#sk-container-id-1 div.sk-label label {font-family: monospace;font-weight: bold;display: inline-block;line-height: 1.2em;}#sk-container-id-1 div.sk-label-container {text-align: center;}#sk-container-id-1 div.sk-container {/* jupyter's `normalize.less` sets `[hidden] { display: none; }` but bootstrap.min.css set `[hidden] { display: none !important; }` so we also need the `!important` here to be able to override the default hidden behavior on the sphinx rendered scikit-learn.org. See: https://github.com/scikit-learn/scikit-learn/issues/21755 */display: inline-block !important;position: relative;}#sk-container-id-1 div.sk-text-repr-fallback {display: none;}</style><div id=\"sk-container-id-1\" class=\"sk-top-container\"><div class=\"sk-text-repr-fallback\"><pre>StandardScaler()</pre><b>In a Jupyter environment, please rerun this cell to show the HTML representation or trust the notebook. <br />On GitHub, the HTML representation is unable to render, please try loading this page with nbviewer.org.</b></div><div class=\"sk-container\" hidden><div class=\"sk-item\"><div class=\"sk-estimator sk-toggleable\"><input class=\"sk-toggleable__control sk-hidden--visually\" id=\"sk-estimator-id-1\" type=\"checkbox\" checked><label for=\"sk-estimator-id-1\" class=\"sk-toggleable__label sk-toggleable__label-arrow\">StandardScaler</label><div class=\"sk-toggleable__content\"><pre>StandardScaler()</pre></div></div></div></div></div>"
      ],
      "text/plain": [
       "StandardScaler()"
      ]
     },
     "execution_count": 13,
     "metadata": {},
     "output_type": "execute_result"
    }
   ],
   "source": [
    "to_scale_n = df3[notes_reçues]\n",
    "scaler_n=StandardScaler()\n",
    "scaler_n.fit(to_scale_n)"
   ]
  },
  {
   "cell_type": "code",
   "execution_count": 14,
   "id": "9e6351d5-a642-4853-8063-5a56d13e547c",
   "metadata": {
    "tags": []
   },
   "outputs": [
    {
     "data": {
      "text/html": [
       "<div>\n",
       "<style scoped>\n",
       "    .dataframe tbody tr th:only-of-type {\n",
       "        vertical-align: middle;\n",
       "    }\n",
       "\n",
       "    .dataframe tbody tr th {\n",
       "        vertical-align: top;\n",
       "    }\n",
       "\n",
       "    .dataframe thead th {\n",
       "        text-align: right;\n",
       "    }\n",
       "</style>\n",
       "<table border=\"1\" class=\"dataframe\">\n",
       "  <thead>\n",
       "    <tr style=\"text-align: right;\">\n",
       "      <th></th>\n",
       "      <th>attractive_o</th>\n",
       "      <th>sincere_o</th>\n",
       "      <th>intelligence_o</th>\n",
       "      <th>funny_o</th>\n",
       "      <th>ambition_o</th>\n",
       "      <th>shared_interests_o</th>\n",
       "      <th>decision_o</th>\n",
       "    </tr>\n",
       "  </thead>\n",
       "  <tbody>\n",
       "    <tr>\n",
       "      <th>0</th>\n",
       "      <td>-0.092871</td>\n",
       "      <td>0.480338</td>\n",
       "      <td>0.408453</td>\n",
       "      <td>0.819140</td>\n",
       "      <td>0.691481</td>\n",
       "      <td>0.250831</td>\n",
       "      <td>0</td>\n",
       "    </tr>\n",
       "    <tr>\n",
       "      <th>1</th>\n",
       "      <td>0.419130</td>\n",
       "      <td>0.480338</td>\n",
       "      <td>1.689032</td>\n",
       "      <td>0.309284</td>\n",
       "      <td>0.135249</td>\n",
       "      <td>-0.214290</td>\n",
       "      <td>0</td>\n",
       "    </tr>\n",
       "    <tr>\n",
       "      <th>2</th>\n",
       "      <td>1.955134</td>\n",
       "      <td>1.624229</td>\n",
       "      <td>1.689032</td>\n",
       "      <td>1.838854</td>\n",
       "      <td>1.803947</td>\n",
       "      <td>2.111319</td>\n",
       "      <td>1</td>\n",
       "    </tr>\n",
       "    <tr>\n",
       "      <th>3</th>\n",
       "      <td>0.419130</td>\n",
       "      <td>0.480338</td>\n",
       "      <td>1.048742</td>\n",
       "      <td>0.819140</td>\n",
       "      <td>1.247714</td>\n",
       "      <td>1.181075</td>\n",
       "      <td>1</td>\n",
       "    </tr>\n",
       "    <tr>\n",
       "      <th>4</th>\n",
       "      <td>0.931131</td>\n",
       "      <td>-0.091607</td>\n",
       "      <td>1.048742</td>\n",
       "      <td>-0.200573</td>\n",
       "      <td>1.247714</td>\n",
       "      <td>0.715953</td>\n",
       "      <td>1</td>\n",
       "    </tr>\n",
       "    <tr>\n",
       "      <th>...</th>\n",
       "      <td>...</td>\n",
       "      <td>...</td>\n",
       "      <td>...</td>\n",
       "      <td>...</td>\n",
       "      <td>...</td>\n",
       "      <td>...</td>\n",
       "      <td>...</td>\n",
       "    </tr>\n",
       "    <tr>\n",
       "      <th>6894</th>\n",
       "      <td>1.955134</td>\n",
       "      <td>-1.235498</td>\n",
       "      <td>-2.792996</td>\n",
       "      <td>-2.239999</td>\n",
       "      <td>-0.420984</td>\n",
       "      <td>-0.214290</td>\n",
       "      <td>1</td>\n",
       "    </tr>\n",
       "    <tr>\n",
       "      <th>6895</th>\n",
       "      <td>-0.092871</td>\n",
       "      <td>-2.379389</td>\n",
       "      <td>-0.231837</td>\n",
       "      <td>-1.730142</td>\n",
       "      <td>0.135249</td>\n",
       "      <td>-1.609656</td>\n",
       "      <td>0</td>\n",
       "    </tr>\n",
       "    <tr>\n",
       "      <th>6896</th>\n",
       "      <td>-2.140876</td>\n",
       "      <td>-3.523280</td>\n",
       "      <td>-3.433286</td>\n",
       "      <td>-2.239999</td>\n",
       "      <td>-2.645915</td>\n",
       "      <td>-2.074778</td>\n",
       "      <td>0</td>\n",
       "    </tr>\n",
       "    <tr>\n",
       "      <th>6897</th>\n",
       "      <td>-0.604872</td>\n",
       "      <td>-0.091607</td>\n",
       "      <td>-1.512417</td>\n",
       "      <td>-0.710429</td>\n",
       "      <td>-2.089682</td>\n",
       "      <td>0.250831</td>\n",
       "      <td>1</td>\n",
       "    </tr>\n",
       "    <tr>\n",
       "      <th>6898</th>\n",
       "      <td>0.931131</td>\n",
       "      <td>0.480338</td>\n",
       "      <td>-0.231837</td>\n",
       "      <td>0.309284</td>\n",
       "      <td>0.135249</td>\n",
       "      <td>0.715953</td>\n",
       "      <td>1</td>\n",
       "    </tr>\n",
       "  </tbody>\n",
       "</table>\n",
       "<p>6899 rows × 7 columns</p>\n",
       "</div>"
      ],
      "text/plain": [
       "      attractive_o  sincere_o  intelligence_o   funny_o  ambition_o  \\\n",
       "0        -0.092871   0.480338        0.408453  0.819140    0.691481   \n",
       "1         0.419130   0.480338        1.689032  0.309284    0.135249   \n",
       "2         1.955134   1.624229        1.689032  1.838854    1.803947   \n",
       "3         0.419130   0.480338        1.048742  0.819140    1.247714   \n",
       "4         0.931131  -0.091607        1.048742 -0.200573    1.247714   \n",
       "...            ...        ...             ...       ...         ...   \n",
       "6894      1.955134  -1.235498       -2.792996 -2.239999   -0.420984   \n",
       "6895     -0.092871  -2.379389       -0.231837 -1.730142    0.135249   \n",
       "6896     -2.140876  -3.523280       -3.433286 -2.239999   -2.645915   \n",
       "6897     -0.604872  -0.091607       -1.512417 -0.710429   -2.089682   \n",
       "6898      0.931131   0.480338       -0.231837  0.309284    0.135249   \n",
       "\n",
       "      shared_interests_o  decision_o  \n",
       "0               0.250831           0  \n",
       "1              -0.214290           0  \n",
       "2               2.111319           1  \n",
       "3               1.181075           1  \n",
       "4               0.715953           1  \n",
       "...                  ...         ...  \n",
       "6894           -0.214290           1  \n",
       "6895           -1.609656           0  \n",
       "6896           -2.074778           0  \n",
       "6897            0.250831           1  \n",
       "6898            0.715953           1  \n",
       "\n",
       "[6899 rows x 7 columns]"
      ]
     },
     "execution_count": 14,
     "metadata": {},
     "output_type": "execute_result"
    }
   ],
   "source": [
    "scaled_features_n = scaler_n.transform(to_scale_n) # Reduce and center the quantitative variables\n",
    "df_scaled_n = pd.DataFrame(scaled_features_n, columns=notes_reçues)\n",
    "df_scaled_n\n",
    "final_df_n = pd.concat([df_scaled_n.reset_index(), df3['decision_o'].reset_index()], axis = 1)\n",
    "del final_df_n['index']\n",
    "final_df_n"
   ]
  },
  {
   "cell_type": "code",
   "execution_count": 15,
   "id": "70897ac5-fe7f-4bac-be2a-52bfa79358be",
   "metadata": {},
   "outputs": [],
   "source": [
    "x_n=final_df_n[notes_reçues]\n",
    "y_n=final_df_n['decision_o']\n",
    "x_train_n, x_test_n, y_train_n, y_test_n = train_test_split(x_n, y_n, random_state = 0)"
   ]
  },
  {
   "cell_type": "code",
   "execution_count": 16,
   "id": "abbe93d4-dc8c-4b1a-9faf-7f7daf348faa",
   "metadata": {},
   "outputs": [
    {
     "name": "stdout",
     "output_type": "stream",
     "text": [
      "précision de la régression logistique: 74.72463768115942\n"
     ]
    }
   ],
   "source": [
    "#instanciation du modèle\n",
    "modele_regLog_n = LogisticRegression(random_state = 0,\n",
    "solver = 'liblinear', multi_class = 'auto')\n",
    "#training\n",
    "modele_regLog_n.fit(x_train_n,y_train_n)\n",
    "#précision du modèle\n",
    "precision_n = modele_regLog_n.score(x_test_n,y_test_n)\n",
    "print('précision de la régression logistique:', precision_n*100)"
   ]
  },
  {
   "cell_type": "markdown",
   "id": "5b2bee55-0d77-446d-8f95-b6f8147b5590",
   "metadata": {},
   "source": [
    "### On peut souligner une précision de notre régression logistique meilleure qu'auparavant ! 🥳🥳🥳"
   ]
  },
  {
   "cell_type": "code",
   "execution_count": 17,
   "id": "cd67d0cc-1b36-4f40-987f-be3d1192345a",
   "metadata": {},
   "outputs": [],
   "source": [
    "results_df_n = pd.DataFrame(np.concatenate([modele_regLog_n.intercept_.reshape(-1,1),\n",
    "                             modele_regLog_n.coef_],axis=1),\n",
    "             index = [\"coef\"],\n",
    "             columns = [\"constante\"]+list(x_n.columns)).T\n",
    "sorted_df_n = results_df_n.sort_values('coef').transpose()"
   ]
  },
  {
   "cell_type": "code",
   "execution_count": 18,
   "id": "d880b701-c914-4f2b-ba52-204ef638218a",
   "metadata": {},
   "outputs": [
    {
     "data": {
      "image/png": "[encoded data removed]",
      "text/plain": [
       "<Figure size 2500x1000 with 1 Axes>"
      ]
     },
     "metadata": {},
     "output_type": "display_data"
    }
   ],
   "source": [
    "sns.set(rc={'figure.figsize':(25,10)}) # Augmenter la taille du graphique\n",
    "sns.set(font_scale=2)\n",
    "sns.barplot(sorted_df_n).set(title=\"Régression logistique de decision_o sur les notes reçues pour l'ensemble des participants\")\n",
    "plt.show()"
   ]
  },
  {
   "cell_type": "markdown",
   "id": "73ab85fa-3d3b-46ba-8290-d94ca72c0600",
   "metadata": {},
   "source": [
    "#### Sans surprise, sur les caractéristiques plus générales, si le partenaire trouve l'individu attirant(e), il/elle va vouloir le/la revoir. Même raisonnement pour centres d'intérêts partagés. Bizarre au niveau de ambition_o et sincere_o (coeff négatif)? A réfléchir"
   ]
  }
 ],
 "metadata": {
  "kernelspec": {
   "display_name": "Python 3 (ipykernel)",
   "language": "python",
   "name": "python3"
  },
  "language_info": {
   "codemirror_mode": {
    "name": "ipython",
    "version": 3
   },
   "file_extension": ".py",
   "mimetype": "text/x-python",
   "name": "python",
   "nbconvert_exporter": "python",
   "pygments_lexer": "ipython3",
   "version": "3.10.4"
  }
 },
 "nbformat": 4,
 "nbformat_minor": 5
}
