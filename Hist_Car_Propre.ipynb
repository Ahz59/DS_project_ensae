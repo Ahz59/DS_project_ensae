{
 "cells": [
  {
   "cell_type": "code",
   "execution_count": 1,
   "id": "845602bd-70b8-45ef-aef4-bc44aca1e66d",
   "metadata": {},
   "outputs": [],
   "source": [
    "import pandas as pd\n",
    "import matplotlib.pyplot as plt\n",
    "import seaborn as sns\n",
    "import numpy as np"
   ]
  },
  {
   "cell_type": "code",
   "execution_count": 2,
   "id": "73bbf0cc-da6c-4087-9917-74b3251e6643",
   "metadata": {},
   "outputs": [],
   "source": [
    "df_m = pd.read_csv('data/speeddating modified.csv')\n",
    "df_p = pd.read_csv('data/speeddating personal.csv')"
   ]
  },
  {
   "cell_type": "code",
   "execution_count": 3,
   "id": "e06a2e14-7ea3-4834-be44-1c58f297816e",
   "metadata": {},
   "outputs": [
    {
     "data": {
      "text/html": [
       "<div>\n",
       "<style scoped>\n",
       "    .dataframe tbody tr th:only-of-type {\n",
       "        vertical-align: middle;\n",
       "    }\n",
       "\n",
       "    .dataframe tbody tr th {\n",
       "        vertical-align: top;\n",
       "    }\n",
       "\n",
       "    .dataframe thead th {\n",
       "        text-align: right;\n",
       "    }\n",
       "</style>\n",
       "<table border=\"1\" class=\"dataframe\">\n",
       "  <thead>\n",
       "    <tr style=\"text-align: right;\">\n",
       "      <th></th>\n",
       "      <th>Unnamed: 0</th>\n",
       "      <th>id</th>\n",
       "      <th>has_null</th>\n",
       "      <th>wave</th>\n",
       "      <th>gender</th>\n",
       "      <th>age</th>\n",
       "      <th>age_o</th>\n",
       "      <th>d_age</th>\n",
       "      <th>d_d_age</th>\n",
       "      <th>race</th>\n",
       "      <th>...</th>\n",
       "      <th>like</th>\n",
       "      <th>guess_prob_liked</th>\n",
       "      <th>d_like</th>\n",
       "      <th>d_guess_prob_liked</th>\n",
       "      <th>met</th>\n",
       "      <th>decision</th>\n",
       "      <th>decision_o</th>\n",
       "      <th>match</th>\n",
       "      <th>note_moyenne</th>\n",
       "      <th>note_moyenne_o</th>\n",
       "    </tr>\n",
       "  </thead>\n",
       "  <tbody>\n",
       "    <tr>\n",
       "      <th>0</th>\n",
       "      <td>0</td>\n",
       "      <td>0</td>\n",
       "      <td>0</td>\n",
       "      <td>1</td>\n",
       "      <td>female</td>\n",
       "      <td>21.0</td>\n",
       "      <td>27.0</td>\n",
       "      <td>6</td>\n",
       "      <td>[4-6]</td>\n",
       "      <td>asian/pacific islander/asian-american</td>\n",
       "      <td>...</td>\n",
       "      <td>7.0</td>\n",
       "      <td>6.0</td>\n",
       "      <td>[6-8]</td>\n",
       "      <td>[5-6]</td>\n",
       "      <td>0.0</td>\n",
       "      <td>1</td>\n",
       "      <td>0</td>\n",
       "      <td>0</td>\n",
       "      <td>5.79</td>\n",
       "      <td>6.90</td>\n",
       "    </tr>\n",
       "    <tr>\n",
       "      <th>1</th>\n",
       "      <td>1</td>\n",
       "      <td>0</td>\n",
       "      <td>0</td>\n",
       "      <td>1</td>\n",
       "      <td>female</td>\n",
       "      <td>21.0</td>\n",
       "      <td>22.0</td>\n",
       "      <td>1</td>\n",
       "      <td>[0-1]</td>\n",
       "      <td>asian/pacific islander/asian-american</td>\n",
       "      <td>...</td>\n",
       "      <td>7.0</td>\n",
       "      <td>5.0</td>\n",
       "      <td>[6-8]</td>\n",
       "      <td>[5-6]</td>\n",
       "      <td>1.0</td>\n",
       "      <td>1</td>\n",
       "      <td>0</td>\n",
       "      <td>0</td>\n",
       "      <td>5.79</td>\n",
       "      <td>7.00</td>\n",
       "    </tr>\n",
       "    <tr>\n",
       "      <th>2</th>\n",
       "      <td>2</td>\n",
       "      <td>0</td>\n",
       "      <td>1</td>\n",
       "      <td>1</td>\n",
       "      <td>female</td>\n",
       "      <td>21.0</td>\n",
       "      <td>22.0</td>\n",
       "      <td>1</td>\n",
       "      <td>[0-1]</td>\n",
       "      <td>asian/pacific islander/asian-american</td>\n",
       "      <td>...</td>\n",
       "      <td>7.0</td>\n",
       "      <td>NaN</td>\n",
       "      <td>[6-8]</td>\n",
       "      <td>[0-4]</td>\n",
       "      <td>1.0</td>\n",
       "      <td>1</td>\n",
       "      <td>1</td>\n",
       "      <td>1</td>\n",
       "      <td>5.79</td>\n",
       "      <td>8.80</td>\n",
       "    </tr>\n",
       "    <tr>\n",
       "      <th>3</th>\n",
       "      <td>3</td>\n",
       "      <td>0</td>\n",
       "      <td>0</td>\n",
       "      <td>1</td>\n",
       "      <td>female</td>\n",
       "      <td>21.0</td>\n",
       "      <td>23.0</td>\n",
       "      <td>2</td>\n",
       "      <td>[2-3]</td>\n",
       "      <td>asian/pacific islander/asian-american</td>\n",
       "      <td>...</td>\n",
       "      <td>7.0</td>\n",
       "      <td>6.0</td>\n",
       "      <td>[6-8]</td>\n",
       "      <td>[5-6]</td>\n",
       "      <td>0.0</td>\n",
       "      <td>1</td>\n",
       "      <td>1</td>\n",
       "      <td>1</td>\n",
       "      <td>5.79</td>\n",
       "      <td>7.50</td>\n",
       "    </tr>\n",
       "    <tr>\n",
       "      <th>4</th>\n",
       "      <td>4</td>\n",
       "      <td>0</td>\n",
       "      <td>0</td>\n",
       "      <td>1</td>\n",
       "      <td>female</td>\n",
       "      <td>21.0</td>\n",
       "      <td>24.0</td>\n",
       "      <td>3</td>\n",
       "      <td>[2-3]</td>\n",
       "      <td>asian/pacific islander/asian-american</td>\n",
       "      <td>...</td>\n",
       "      <td>6.0</td>\n",
       "      <td>6.0</td>\n",
       "      <td>[6-8]</td>\n",
       "      <td>[5-6]</td>\n",
       "      <td>0.0</td>\n",
       "      <td>1</td>\n",
       "      <td>1</td>\n",
       "      <td>1</td>\n",
       "      <td>5.79</td>\n",
       "      <td>6.40</td>\n",
       "    </tr>\n",
       "    <tr>\n",
       "      <th>...</th>\n",
       "      <td>...</td>\n",
       "      <td>...</td>\n",
       "      <td>...</td>\n",
       "      <td>...</td>\n",
       "      <td>...</td>\n",
       "      <td>...</td>\n",
       "      <td>...</td>\n",
       "      <td>...</td>\n",
       "      <td>...</td>\n",
       "      <td>...</td>\n",
       "      <td>...</td>\n",
       "      <td>...</td>\n",
       "      <td>...</td>\n",
       "      <td>...</td>\n",
       "      <td>...</td>\n",
       "      <td>...</td>\n",
       "      <td>...</td>\n",
       "      <td>...</td>\n",
       "      <td>...</td>\n",
       "      <td>...</td>\n",
       "      <td>...</td>\n",
       "    </tr>\n",
       "    <tr>\n",
       "      <th>7720</th>\n",
       "      <td>7720</td>\n",
       "      <td>515</td>\n",
       "      <td>1</td>\n",
       "      <td>21</td>\n",
       "      <td>female</td>\n",
       "      <td>22.0</td>\n",
       "      <td>30.0</td>\n",
       "      <td>8</td>\n",
       "      <td>[7-37]</td>\n",
       "      <td>asian/pacific islander/asian-american</td>\n",
       "      <td>...</td>\n",
       "      <td>7.0</td>\n",
       "      <td>5.0</td>\n",
       "      <td>[6-8]</td>\n",
       "      <td>[5-6]</td>\n",
       "      <td>0.0</td>\n",
       "      <td>0</td>\n",
       "      <td>0</td>\n",
       "      <td>0</td>\n",
       "      <td>4.46</td>\n",
       "      <td>3.10</td>\n",
       "    </tr>\n",
       "    <tr>\n",
       "      <th>7721</th>\n",
       "      <td>7721</td>\n",
       "      <td>515</td>\n",
       "      <td>1</td>\n",
       "      <td>21</td>\n",
       "      <td>female</td>\n",
       "      <td>22.0</td>\n",
       "      <td>28.0</td>\n",
       "      <td>6</td>\n",
       "      <td>[4-6]</td>\n",
       "      <td>asian/pacific islander/asian-american</td>\n",
       "      <td>...</td>\n",
       "      <td>8.0</td>\n",
       "      <td>5.0</td>\n",
       "      <td>[6-8]</td>\n",
       "      <td>[5-6]</td>\n",
       "      <td>0.0</td>\n",
       "      <td>1</td>\n",
       "      <td>0</td>\n",
       "      <td>0</td>\n",
       "      <td>4.46</td>\n",
       "      <td>5.00</td>\n",
       "    </tr>\n",
       "    <tr>\n",
       "      <th>7722</th>\n",
       "      <td>7722</td>\n",
       "      <td>515</td>\n",
       "      <td>1</td>\n",
       "      <td>21</td>\n",
       "      <td>female</td>\n",
       "      <td>22.0</td>\n",
       "      <td>30.0</td>\n",
       "      <td>8</td>\n",
       "      <td>[7-37]</td>\n",
       "      <td>asian/pacific islander/asian-american</td>\n",
       "      <td>...</td>\n",
       "      <td>5.0</td>\n",
       "      <td>3.0</td>\n",
       "      <td>[0-5]</td>\n",
       "      <td>[0-4]</td>\n",
       "      <td>0.0</td>\n",
       "      <td>0</td>\n",
       "      <td>0</td>\n",
       "      <td>0</td>\n",
       "      <td>4.46</td>\n",
       "      <td>4.29</td>\n",
       "    </tr>\n",
       "    <tr>\n",
       "      <th>7723</th>\n",
       "      <td>7723</td>\n",
       "      <td>515</td>\n",
       "      <td>1</td>\n",
       "      <td>21</td>\n",
       "      <td>female</td>\n",
       "      <td>22.0</td>\n",
       "      <td>27.0</td>\n",
       "      <td>5</td>\n",
       "      <td>[4-6]</td>\n",
       "      <td>asian/pacific islander/asian-american</td>\n",
       "      <td>...</td>\n",
       "      <td>5.0</td>\n",
       "      <td>4.0</td>\n",
       "      <td>[0-5]</td>\n",
       "      <td>[0-4]</td>\n",
       "      <td>0.0</td>\n",
       "      <td>0</td>\n",
       "      <td>0</td>\n",
       "      <td>0</td>\n",
       "      <td>4.46</td>\n",
       "      <td>6.60</td>\n",
       "    </tr>\n",
       "    <tr>\n",
       "      <th>7724</th>\n",
       "      <td>7724</td>\n",
       "      <td>515</td>\n",
       "      <td>1</td>\n",
       "      <td>21</td>\n",
       "      <td>female</td>\n",
       "      <td>22.0</td>\n",
       "      <td>25.0</td>\n",
       "      <td>3</td>\n",
       "      <td>[2-3]</td>\n",
       "      <td>asian/pacific islander/asian-american</td>\n",
       "      <td>...</td>\n",
       "      <td>8.0</td>\n",
       "      <td>5.0</td>\n",
       "      <td>[6-8]</td>\n",
       "      <td>[5-6]</td>\n",
       "      <td>0.0</td>\n",
       "      <td>1</td>\n",
       "      <td>0</td>\n",
       "      <td>0</td>\n",
       "      <td>4.46</td>\n",
       "      <td>3.60</td>\n",
       "    </tr>\n",
       "  </tbody>\n",
       "</table>\n",
       "<p>4073 rows × 127 columns</p>\n",
       "</div>"
      ],
      "text/plain": [
       "      Unnamed: 0   id  has_null  wave  gender   age  age_o  d_age d_d_age  \\\n",
       "0              0    0         0     1  female  21.0   27.0      6   [4-6]   \n",
       "1              1    0         0     1  female  21.0   22.0      1   [0-1]   \n",
       "2              2    0         1     1  female  21.0   22.0      1   [0-1]   \n",
       "3              3    0         0     1  female  21.0   23.0      2   [2-3]   \n",
       "4              4    0         0     1  female  21.0   24.0      3   [2-3]   \n",
       "...          ...  ...       ...   ...     ...   ...    ...    ...     ...   \n",
       "7720        7720  515         1    21  female  22.0   30.0      8  [7-37]   \n",
       "7721        7721  515         1    21  female  22.0   28.0      6   [4-6]   \n",
       "7722        7722  515         1    21  female  22.0   30.0      8  [7-37]   \n",
       "7723        7723  515         1    21  female  22.0   27.0      5   [4-6]   \n",
       "7724        7724  515         1    21  female  22.0   25.0      3   [2-3]   \n",
       "\n",
       "                                       race  ... like  guess_prob_liked  \\\n",
       "0     asian/pacific islander/asian-american  ...  7.0               6.0   \n",
       "1     asian/pacific islander/asian-american  ...  7.0               5.0   \n",
       "2     asian/pacific islander/asian-american  ...  7.0               NaN   \n",
       "3     asian/pacific islander/asian-american  ...  7.0               6.0   \n",
       "4     asian/pacific islander/asian-american  ...  6.0               6.0   \n",
       "...                                     ...  ...  ...               ...   \n",
       "7720  asian/pacific islander/asian-american  ...  7.0               5.0   \n",
       "7721  asian/pacific islander/asian-american  ...  8.0               5.0   \n",
       "7722  asian/pacific islander/asian-american  ...  5.0               3.0   \n",
       "7723  asian/pacific islander/asian-american  ...  5.0               4.0   \n",
       "7724  asian/pacific islander/asian-american  ...  8.0               5.0   \n",
       "\n",
       "      d_like  d_guess_prob_liked  met decision decision_o  match  \\\n",
       "0      [6-8]               [5-6]  0.0        1          0      0   \n",
       "1      [6-8]               [5-6]  1.0        1          0      0   \n",
       "2      [6-8]               [0-4]  1.0        1          1      1   \n",
       "3      [6-8]               [5-6]  0.0        1          1      1   \n",
       "4      [6-8]               [5-6]  0.0        1          1      1   \n",
       "...      ...                 ...  ...      ...        ...    ...   \n",
       "7720   [6-8]               [5-6]  0.0        0          0      0   \n",
       "7721   [6-8]               [5-6]  0.0        1          0      0   \n",
       "7722   [0-5]               [0-4]  0.0        0          0      0   \n",
       "7723   [0-5]               [0-4]  0.0        0          0      0   \n",
       "7724   [6-8]               [5-6]  0.0        1          0      0   \n",
       "\n",
       "      note_moyenne  note_moyenne_o  \n",
       "0             5.79            6.90  \n",
       "1             5.79            7.00  \n",
       "2             5.79            8.80  \n",
       "3             5.79            7.50  \n",
       "4             5.79            6.40  \n",
       "...            ...             ...  \n",
       "7720          4.46            3.10  \n",
       "7721          4.46            5.00  \n",
       "7722          4.46            4.29  \n",
       "7723          4.46            6.60  \n",
       "7724          4.46            3.60  \n",
       "\n",
       "[4073 rows x 127 columns]"
      ]
     },
     "execution_count": 3,
     "metadata": {},
     "output_type": "execute_result"
    }
   ],
   "source": [
    "df_m[df_m['gender'] == 'female']"
   ]
  },
  {
   "cell_type": "code",
   "execution_count": 4,
   "id": "1d3d208b-4865-46e7-a3d2-ed064492f10e",
   "metadata": {},
   "outputs": [
    {
     "data": {
      "text/plain": [
       "attractive      6.948529\n",
       "sincere         8.113971\n",
       "intelligence    7.511029\n",
       "funny           8.485294\n",
       "ambition        7.529412\n",
       "dtype: float64"
      ]
     },
     "execution_count": 4,
     "metadata": {},
     "output_type": "execute_result"
    }
   ],
   "source": [
    "df_p[df_p['gender'] == 'male'][['attractive', 'sincere', 'intelligence', 'funny', 'ambition']].mean()"
   ]
  },
  {
   "cell_type": "code",
   "execution_count": 5,
   "id": "b2e27faa-4680-4075-ab8c-d2077b3d1b67",
   "metadata": {},
   "outputs": [
    {
     "data": {
      "text/plain": [
       "6.121028312379111"
      ]
     },
     "execution_count": 5,
     "metadata": {},
     "output_type": "execute_result"
    }
   ],
   "source": [
    "df_m[df_m['gender'] == 'male']['note_moyenne'].mean()"
   ]
  },
  {
   "cell_type": "code",
   "execution_count": 6,
   "id": "c6f0ee2c-81fd-4da8-8db8-d4a4518a0d47",
   "metadata": {},
   "outputs": [
    {
     "data": {
      "text/plain": [
       "attractive      7.236842\n",
       "sincere         8.481203\n",
       "intelligence    7.898496\n",
       "funny           8.300752\n",
       "ambition        7.631579\n",
       "dtype: float64"
      ]
     },
     "execution_count": 6,
     "metadata": {},
     "output_type": "execute_result"
    }
   ],
   "source": [
    "df_p[df_p['gender'] == 'female'][['attractive', 'sincere', 'intelligence', 'funny', 'ambition']].mean()"
   ]
  },
  {
   "cell_type": "code",
   "execution_count": 7,
   "id": "619e68a9-36d2-45e5-b1cc-c4cef9c26966",
   "metadata": {},
   "outputs": [
    {
     "data": {
      "text/plain": [
       "6.271814583844832"
      ]
     },
     "execution_count": 7,
     "metadata": {},
     "output_type": "execute_result"
    }
   ],
   "source": [
    "df_m[df_m['gender'] == 'female']['note_moyenne'].mean()"
   ]
  },
  {
   "cell_type": "code",
   "execution_count": 9,
   "id": "0e9e8203-35e2-4418-a7fc-3dff40952789",
   "metadata": {
    "tags": []
   },
   "outputs": [
    {
     "data": {
      "text/plain": [
       "Text(0, 0.5, 'Moyenne des notes pour les hommes')"
      ]
     },
     "execution_count": 9,
     "metadata": {},
     "output_type": "execute_result"
    },
    {
     "data": {
      "image/png": "[encoded data removed]",
      "text/plain": [
       "<Figure size 1000x500 with 1 Axes>"
      ]
     },
     "metadata": {},
     "output_type": "display_data"
    }
   ],
   "source": [
    "sns.set(rc={'figure.figsize':(10,5)}) # Augmenter la taille du graphique\n",
    "ax = df_p[df_p['gender'] == 'male'][['attractive', 'sincere', 'intelligence', 'funny', 'ambition']].mean().plot.bar(legend=False)\n",
    "ax.set_ylabel(\"Moyenne des notes pour les hommes\")"
   ]
  },
  {
   "cell_type": "code",
   "execution_count": 10,
   "id": "e61769c3-ce52-484d-b87a-b3efbd8cea4b",
   "metadata": {},
   "outputs": [
    {
     "data": {
      "text/plain": [
       "Text(0, 0.5, 'Moyenne des notes pour les femmes')"
      ]
     },
     "execution_count": 10,
     "metadata": {},
     "output_type": "execute_result"
    },
    {
     "data": {
      "image/png": "[encoded data removed]",
      "text/plain": [
       "<Figure size 1000x500 with 1 Axes>"
      ]
     },
     "metadata": {},
     "output_type": "display_data"
    }
   ],
   "source": [
    "sns.set(rc={'figure.figsize':(10,5)}) # Augmenter la taille du graphique\n",
    "ax = df_p[df_p['gender'] == 'female'][['attractive', 'sincere', 'intelligence', 'funny', 'ambition']].mean().plot.bar(legend=False)\n",
    "ax.set_ylabel(\"Moyenne des notes pour les femmes\")"
   ]
  }
 ],
 "metadata": {
  "kernelspec": {
   "display_name": "Python 3 (ipykernel)",
   "language": "python",
   "name": "python3"
  },
  "language_info": {
   "codemirror_mode": {
    "name": "ipython",
    "version": 3
   },
   "file_extension": ".py",
   "mimetype": "text/x-python",
   "name": "python",
   "nbconvert_exporter": "python",
   "pygments_lexer": "ipython3",
   "version": "3.10.4"
  }
 },
 "nbformat": 4,
 "nbformat_minor": 5
}
